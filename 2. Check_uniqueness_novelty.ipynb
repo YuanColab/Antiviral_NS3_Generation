{
 "cells": [
  {
   "metadata": {
    "ExecuteTime": {
     "end_time": "2024-06-04T06:02:01.414459Z",
     "start_time": "2024-06-04T06:01:44.199833Z"
    }
   },
   "cell_type": "code",
   "source": [
    "import pandas as pd\n",
    "from Bio import SeqIO\n",
    "from Bio.Seq import Seq\n",
    "from Bio.SeqRecord import SeqRecord\n",
    "\n",
    "def load_sequences(pretrain_file, validation_file):\n",
    "    # 加载预训练集\n",
    "    pretrain_sequences = pd.read_csv(pretrain_file, header=None)[0].tolist()\n",
    "    \n",
    "    # 加载外部验证数据集\n",
    "    validation_sequences = []\n",
    "    for record in SeqIO.parse(validation_file, \"fasta\"):\n",
    "        validation_sequences.append(str(record.seq))\n",
    "    \n",
    "    return set(pretrain_sequences), set(validation_sequences)\n",
    "\n",
    "def check_uniqueness(generated_sequences):\n",
    "    unique_sequences = set(generated_sequences)\n",
    "    unique_count = len(unique_sequences)\n",
    "    total_count = len(generated_sequences)\n",
    "    uniqueness_ratio = (unique_count / total_count) * 100\n",
    "    return unique_sequences, unique_count, uniqueness_ratio\n",
    "\n",
    "def check_novelty(generated_sequences, pretrain_sequences, validation_sequences):\n",
    "    new_sequences = []\n",
    "    pretrain_repeats = 0\n",
    "    validation_repeats = 0\n",
    "\n",
    "    for seq in generated_sequences:\n",
    "        if seq not in pretrain_sequences and seq not in validation_sequences:\n",
    "            new_sequences.append(seq)\n",
    "        if seq in pretrain_sequences:\n",
    "            pretrain_repeats += 1\n",
    "        if seq in validation_sequences:\n",
    "            validation_repeats += 1\n",
    "\n",
    "    novel_count = len(new_sequences)\n",
    "    total_count = len(generated_sequences)\n",
    "    novelty_ratio = (novel_count / total_count) * 100\n",
    "    return new_sequences, novel_count, novelty_ratio, pretrain_repeats, validation_repeats\n",
    "\n",
    "def filter_sequences(generated_file, pretrain_file, validation_file):\n",
    "    # 直接读取生成的序列文件中的每一行作为一个序列\n",
    "    generated_sequences = pd.read_csv(generated_file, header=None)[0].tolist()\n",
    "    pretrain_sequences, validation_sequences = load_sequences(pretrain_file, validation_file)\n",
    "    \n",
    "    unique_sequences, unique_count, uniqueness_ratio = check_uniqueness(generated_sequences)\n",
    "    novel_sequences, novel_count, novelty_ratio, pretrain_repeats, validation_repeats = check_novelty(generated_sequences, pretrain_sequences, validation_sequences)\n",
    "    \n",
    "    filtered_sequences = [seq for seq in unique_sequences & set(novel_sequences) if 'B' not in seq]\n",
    "    filtered_count = len(filtered_sequences)\n",
    "    filtered_ratio = (filtered_count / len(generated_sequences)) * 100\n",
    "    \n",
    "    return filtered_sequences, filtered_count, uniqueness_ratio, novelty_ratio, filtered_ratio, pretrain_repeats, validation_repeats\n",
    "\n",
    "def save_filtered_sequences(filtered_sequences, output_file_csv, output_file_fasta):\n",
    "    # 保存为CSV格式\n",
    "    output_file_csv = \"data/\" + output_file_csv\n",
    "    pd.DataFrame(filtered_sequences, columns=[\"sequence\"]).to_csv(output_file_csv, index=False)\n",
    "    \n",
    "    # 保存为FASTA格式\n",
    "    output_file_fasta = \"data/\" + output_file_fasta\n",
    "    fasta_sequences = [SeqRecord(Seq(seq), id=str(index), description=\"\") for index, seq in enumerate(filtered_sequences)]\n",
    "    SeqIO.write(fasta_sequences, output_file_fasta, \"fasta\")\n",
    "\n",
    "# 示例使用\n",
    "generated_file = 'NS3_finetune_model/sampled_sequences_temp1.25.csv'\n",
    "pretrain_file = 'data/Antiviral_pretrain_dataset.csv'\n",
    "validation_file = 'data/Peptipedia_all_peptides.fasta'\n",
    "output_file_csv = 'Filtered_Unique_Novel.csv'\n",
    "output_file_fasta = 'Filtered_Unique_Novel.fasta'\n",
    "\n",
    "filtered_sequences, filtered_count, uniqueness_ratio, novelty_ratio, filtered_ratio, pretrain_repeats, validation_repeats = filter_sequences(generated_file, pretrain_file, validation_file)\n",
    "\n",
    "print(f\"Filtered sequences count: {filtered_count}\")\n",
    "print(f\"Uniqueness ratio: {uniqueness_ratio:.2f}%\")\n",
    "print(f\"Novelty ratio: {novelty_ratio:.2f}%\")\n",
    "print(f\"Filtered ratio after uniqueness and novelty: {filtered_ratio:.2f}%\")\n",
    "print(f\"Sequences repeated in pretrain set: {pretrain_repeats}\")\n",
    "print(f\"Sequences repeated in validation set: {validation_repeats}\")\n",
    "\n",
    "save_filtered_sequences(filtered_sequences, output_file_csv, output_file_fasta)\n"
   ],
   "id": "d8479f05452be78f",
   "outputs": [
    {
     "name": "stdout",
     "output_type": "stream",
     "text": [
      "Filtered sequences count: 337\n",
      "Uniqueness ratio: 83.90%\n",
      "Novelty ratio: 72.23%\n",
      "Filtered ratio after uniqueness and novelty: 67.81%\n",
      "Sequences repeated in pretrain set: 135\n",
      "Sequences repeated in validation set: 138\n"
     ]
    }
   ],
   "execution_count": 1
  }
 ],
 "metadata": {
  "kernelspec": {
   "display_name": "Python 3",
   "language": "python",
   "name": "python3"
  },
  "language_info": {
   "codemirror_mode": {
    "name": "ipython",
    "version": 2
   },
   "file_extension": ".py",
   "mimetype": "text/x-python",
   "name": "python",
   "nbconvert_exporter": "python",
   "pygments_lexer": "ipython2",
   "version": "2.7.6"
  }
 },
 "nbformat": 4,
 "nbformat_minor": 5
}
